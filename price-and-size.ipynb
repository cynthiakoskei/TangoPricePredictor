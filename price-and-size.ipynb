{
 "cells": [
  {
   "cell_type": "markdown",
   "metadata": {},
   "source": [
    "## Predicting Price with Size"
   ]
  },
  {
   "cell_type": "code",
   "execution_count": 1,
   "metadata": {},
   "outputs": [],
   "source": [
    "# !pip install scikit-learn"
   ]
  },
  {
   "cell_type": "code",
   "execution_count": 2,
   "metadata": {},
   "outputs": [],
   "source": [
    "import warnings\n",
    "\n",
    "import matplotlib.pyplot as plt\n",
    "import pandas as pd\n",
    "from sklearn.linear_model import LinearRegression\n",
    "from sklearn.metrics import mean_absolute_error\n",
    "\n",
    "warnings.simplefilter(action=\"ignore\", category=FutureWarning)"
   ]
  },
  {
   "cell_type": "markdown",
   "metadata": {},
   "source": [
    "Creating a model to predict apartment prices in the city of Tango, with a particular emphasis on apartments priced below $400,000 USD."
   ]
  },
  {
   "cell_type": "markdown",
   "metadata": {},
   "source": [
    "# Prepare Data"
   ]
  },
  {
   "cell_type": "markdown",
   "metadata": {},
   "source": [
    "## Import"
   ]
  },
  {
   "cell_type": "code",
   "execution_count": 3,
   "metadata": {},
   "outputs": [],
   "source": [
    "def wrangle(filepath):\n",
    "    \"\"\"\n",
    "    Reads data from the specified file path and returns a DataFrame.\n",
    "\n",
    "    Parameters:\n",
    "    - file_path : The path to the file containing the data.\n",
    "\n",
    "    Returns:\n",
    "    - DataFrame: A DataFrame containing the loaded data.\n",
    "    \"\"\"\n",
    "    df = pd.read_csv(filepath, encoding='ISO-8859-1')\n",
    "    \n",
    "    # Subset to place `\"Capital Federal\"`\n",
    "    mask_place = df[\"place_with_parent_names\"].str.contains(\"Capital Federal\")\n",
    "    \n",
    "    # Subset to `\"apartment\"`\n",
    "    mask_apar = df[\"property_type\"] == 'apartment'\n",
    "    \n",
    "    # Subset to `\"price_approx_usd\"`\n",
    "    mask_price = df[\"price_aprox_usd\"] < 400_000\n",
    "    \n",
    "    df = df[mask_place & mask_apar & mask_price]\n",
    "    \n",
    "    # Remove outliers by `\"surface_covered_in_m2\"`\n",
    "    low, high = df[\"surface_covered_in_m2\"].quantile([0.1, 0.9])\n",
    "    mask_area = df[\"surface_covered_in_m2\"].between(low, high)\n",
    "    df = df[mask_area]\n",
    "    \n",
    "    return df"
   ]
  },
  {
   "cell_type": "code",
   "execution_count": 4,
   "metadata": {},
   "outputs": [
    {
     "name": "stdout",
     "output_type": "stream",
     "text": [
      "df shape: (5, 16)\n"
     ]
    },
    {
     "data": {
      "text/html": [
       "<div>\n",
       "<style scoped>\n",
       "    .dataframe tbody tr th:only-of-type {\n",
       "        vertical-align: middle;\n",
       "    }\n",
       "\n",
       "    .dataframe tbody tr th {\n",
       "        vertical-align: top;\n",
       "    }\n",
       "\n",
       "    .dataframe thead th {\n",
       "        text-align: right;\n",
       "    }\n",
       "</style>\n",
       "<table border=\"1\" class=\"dataframe\">\n",
       "  <thead>\n",
       "    <tr style=\"text-align: right;\">\n",
       "      <th></th>\n",
       "      <th>operation</th>\n",
       "      <th>property_type</th>\n",
       "      <th>place_with_parent_names</th>\n",
       "      <th>lat-lon</th>\n",
       "      <th>price</th>\n",
       "      <th>currency</th>\n",
       "      <th>price_aprox_local_currency</th>\n",
       "      <th>price_aprox_usd</th>\n",
       "      <th>surface_total_in_m2</th>\n",
       "      <th>surface_covered_in_m2</th>\n",
       "      <th>price_usd_per_m2</th>\n",
       "      <th>price_per_m2</th>\n",
       "      <th>floor</th>\n",
       "      <th>rooms</th>\n",
       "      <th>expenses</th>\n",
       "      <th>properati_url</th>\n",
       "    </tr>\n",
       "  </thead>\n",
       "  <tbody>\n",
       "    <tr>\n",
       "      <th>52</th>\n",
       "      <td>sell</td>\n",
       "      <td>apartment</td>\n",
       "      <td>|Argentina|Capital Federal|Villa Luro|</td>\n",
       "      <td>-34.604783</td>\n",
       "      <td>2254488.4</td>\n",
       "      <td>ARS</td>\n",
       "      <td>31446322.0</td>\n",
       "      <td>153823.1</td>\n",
       "      <td>447.9</td>\n",
       "      <td>453.8</td>\n",
       "      <td>4001.02</td>\n",
       "      <td>6109.974725</td>\n",
       "      <td>28.5</td>\n",
       "      <td>7.9</td>\n",
       "      <td>21.0</td>\n",
       "      <td>https://abc.net.au/augue/quam/sollicitudin/vit...</td>\n",
       "    </tr>\n",
       "    <tr>\n",
       "      <th>466</th>\n",
       "      <td>sell</td>\n",
       "      <td>apartment</td>\n",
       "      <td>|Argentina|Capital Federal|Villa Luro|</td>\n",
       "      <td>-58.566950</td>\n",
       "      <td>1919483.5</td>\n",
       "      <td>USD</td>\n",
       "      <td>6312304.3</td>\n",
       "      <td>118815.9</td>\n",
       "      <td>152.1</td>\n",
       "      <td>320.5</td>\n",
       "      <td>9974.62</td>\n",
       "      <td>6093.814660</td>\n",
       "      <td>12.7</td>\n",
       "      <td>9.6</td>\n",
       "      <td>1498.0</td>\n",
       "      <td>http://phoca.cz/massa.jsp?ipsum=erat&amp;primis=vo...</td>\n",
       "    </tr>\n",
       "    <tr>\n",
       "      <th>826</th>\n",
       "      <td>sell</td>\n",
       "      <td>apartment</td>\n",
       "      <td>|Argentina|Capital Federal|Villa Luro|</td>\n",
       "      <td>-34.604783</td>\n",
       "      <td>NaN</td>\n",
       "      <td>ARS</td>\n",
       "      <td>6187304.6</td>\n",
       "      <td>131421.2</td>\n",
       "      <td>5.9</td>\n",
       "      <td>683.3</td>\n",
       "      <td>5764.42</td>\n",
       "      <td>2319.416863</td>\n",
       "      <td>13.3</td>\n",
       "      <td>2.8</td>\n",
       "      <td>4373.0</td>\n",
       "      <td>http://phoca.cz/ante/vel/ipsum.js?in=dignissim...</td>\n",
       "    </tr>\n",
       "    <tr>\n",
       "      <th>934</th>\n",
       "      <td>sell</td>\n",
       "      <td>apartment</td>\n",
       "      <td>|Argentina|Capital Federal|Villa Luro|</td>\n",
       "      <td>NaN</td>\n",
       "      <td>2457832.1</td>\n",
       "      <td>ARS</td>\n",
       "      <td>31339469.7</td>\n",
       "      <td>205391.4</td>\n",
       "      <td>683.1</td>\n",
       "      <td>324.8</td>\n",
       "      <td>2227.72</td>\n",
       "      <td>3355.897659</td>\n",
       "      <td>4.9</td>\n",
       "      <td>NaN</td>\n",
       "      <td>3883.0</td>\n",
       "      <td>https://unblog.fr/duis/at/velit.png?pulvinar=s...</td>\n",
       "    </tr>\n",
       "    <tr>\n",
       "      <th>961</th>\n",
       "      <td>sell</td>\n",
       "      <td>apartment</td>\n",
       "      <td>|Argentina|Capital Federal|Villa Luro|</td>\n",
       "      <td>-58.458681</td>\n",
       "      <td>424413.6</td>\n",
       "      <td>ARS</td>\n",
       "      <td>4671148.8</td>\n",
       "      <td>264313.8</td>\n",
       "      <td>531.2</td>\n",
       "      <td>842.0</td>\n",
       "      <td>4267.56</td>\n",
       "      <td>7207.574138</td>\n",
       "      <td>80.6</td>\n",
       "      <td>5.1</td>\n",
       "      <td>6805.0</td>\n",
       "      <td>http://nationalgeographic.com/ut/ultrices/vel....</td>\n",
       "    </tr>\n",
       "  </tbody>\n",
       "</table>\n",
       "</div>"
      ],
      "text/plain": [
       "    operation property_type                 place_with_parent_names  \\\n",
       "52       sell     apartment  |Argentina|Capital Federal|Villa Luro|   \n",
       "466      sell     apartment  |Argentina|Capital Federal|Villa Luro|   \n",
       "826      sell     apartment  |Argentina|Capital Federal|Villa Luro|   \n",
       "934      sell     apartment  |Argentina|Capital Federal|Villa Luro|   \n",
       "961      sell     apartment  |Argentina|Capital Federal|Villa Luro|   \n",
       "\n",
       "       lat-lon      price currency  price_aprox_local_currency  \\\n",
       "52  -34.604783  2254488.4      ARS                  31446322.0   \n",
       "466 -58.566950  1919483.5      USD                   6312304.3   \n",
       "826 -34.604783        NaN      ARS                   6187304.6   \n",
       "934        NaN  2457832.1      ARS                  31339469.7   \n",
       "961 -58.458681   424413.6      ARS                   4671148.8   \n",
       "\n",
       "     price_aprox_usd  surface_total_in_m2  surface_covered_in_m2  \\\n",
       "52          153823.1                447.9                  453.8   \n",
       "466         118815.9                152.1                  320.5   \n",
       "826         131421.2                  5.9                  683.3   \n",
       "934         205391.4                683.1                  324.8   \n",
       "961         264313.8                531.2                  842.0   \n",
       "\n",
       "     price_usd_per_m2  price_per_m2  floor  rooms  expenses  \\\n",
       "52            4001.02   6109.974725   28.5    7.9      21.0   \n",
       "466           9974.62   6093.814660   12.7    9.6    1498.0   \n",
       "826           5764.42   2319.416863   13.3    2.8    4373.0   \n",
       "934           2227.72   3355.897659    4.9    NaN    3883.0   \n",
       "961           4267.56   7207.574138   80.6    5.1    6805.0   \n",
       "\n",
       "                                         properati_url  \n",
       "52   https://abc.net.au/augue/quam/sollicitudin/vit...  \n",
       "466  http://phoca.cz/massa.jsp?ipsum=erat&primis=vo...  \n",
       "826  http://phoca.cz/ante/vel/ipsum.js?in=dignissim...  \n",
       "934  https://unblog.fr/duis/at/velit.png?pulvinar=s...  \n",
       "961  http://nationalgeographic.com/ut/ultrices/vel....  "
      ]
     },
     "execution_count": 4,
     "metadata": {},
     "output_type": "execute_result"
    }
   ],
   "source": [
    "# Use the wrangle function to create df \n",
    "df = wrangle(\"data/tango-real-estate-1.csv\")\n",
    "print(\"df shape:\", df.shape)\n",
    "df.head()"
   ]
  },
  {
   "cell_type": "markdown",
   "metadata": {},
   "source": [
    "## Explore"
   ]
  },
  {
   "cell_type": "code",
   "execution_count": 5,
   "metadata": {},
   "outputs": [
    {
     "data": {
      "text/plain": [
       "Text(0.5, 1.0, 'Distribution of Apartment Sizes')"
      ]
     },
     "execution_count": 5,
     "metadata": {},
     "output_type": "execute_result"
    },
    {
     "data": {
      "image/png": "[encoded data removed]",
      "text/plain": [
       "<Figure size 640x480 with 1 Axes>"
      ]
     },
     "metadata": {},
     "output_type": "display_data"
    }
   ],
   "source": [
    "# Plot the distribution of apartment sizes\n",
    "plt.hist(df[\"surface_covered_in_m2\"])\n",
    "plt.xlabel(\"Area [sq meters]\")\n",
    "plt.title(\"Distribution of Apartment Sizes\")"
   ]
  },
  {
   "cell_type": "code",
   "execution_count": 6,
   "metadata": {},
   "outputs": [
    {
     "data": {
      "text/plain": [
       "count      5.000000\n",
       "mean     524.880000\n",
       "std      230.498128\n",
       "min      320.500000\n",
       "25%      324.800000\n",
       "50%      453.800000\n",
       "75%      683.300000\n",
       "max      842.000000\n",
       "Name: surface_covered_in_m2, dtype: float64"
      ]
     },
     "execution_count": 6,
     "metadata": {},
     "output_type": "execute_result"
    }
   ],
   "source": [
    "# Summary statistics for df\n",
    "df.describe()['surface_covered_in_m2']"
   ]
  },
  {
   "cell_type": "code",
   "execution_count": 8,
   "metadata": {},
   "outputs": [
    {
     "data": {
      "text/plain": [
       "Text(0, 0.5, 'Price [USD]')"
      ]
     },
     "execution_count": 8,
     "metadata": {},
     "output_type": "execute_result"
    },
    {
     "data": {
      "image/png": "[encoded data removed]",
      "text/plain": [
       "<Figure size 640x480 with 1 Axes>"
      ]
     },
     "metadata": {},
     "output_type": "display_data"
    }
   ],
   "source": [
    "plt.scatter(df[\"surface_covered_in_m2\"], df[\"price_aprox_usd\"])\n",
    "plt.xlabel(\"Area [sq meters]\")\n",
    "plt.ylabel(\"Price [USD]\")"
   ]
  },
  {
   "cell_type": "code",
   "execution_count": null,
   "metadata": {},
   "outputs": [],
   "source": []
  }
 ],
 "metadata": {
  "kernelspec": {
   "display_name": "Python 3 (ipykernel)",
   "language": "python",
   "name": "python3"
  },
  "language_info": {
   "codemirror_mode": {
    "name": "ipython",
    "version": 3
   },
   "file_extension": ".py",
   "mimetype": "text/x-python",
   "name": "python",
   "nbconvert_exporter": "python",
   "pygments_lexer": "ipython3",
   "version": "3.11.3"
  }
 },
 "nbformat": 4,
 "nbformat_minor": 4
}
